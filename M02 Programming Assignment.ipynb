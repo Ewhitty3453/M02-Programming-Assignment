{
 "cells": [
  {
   "cell_type": "code",
   "execution_count": 4,
   "id": "bd76deb9",
   "metadata": {},
   "outputs": [
    {
     "name": "stdout",
     "output_type": "stream",
     "text": [
      "Too low\n"
     ]
    }
   ],
   "source": [
    "# Assign a number between 1 and 10 to the variable secret\n",
    "secret = 7\n",
    "\n",
    "# Assign another number between 1 and 10 to the variable guess\n",
    "guess = 3\n",
    "\n",
    "# Write conditional tests to check if guess is too low, too high, or just right\n",
    "if guess < secret:\n",
    "    print('Too low')\n",
    "elif guess > secret:\n",
    "    print('Too high')\n",
    "else:\n",
    "    print('Just right')\n",
    "    "
   ]
  },
  {
   "cell_type": "code",
   "execution_count": 5,
   "id": "b9303954",
   "metadata": {},
   "outputs": [
    {
     "name": "stdout",
     "output_type": "stream",
     "text": [
      "This matches: cherry\n"
     ]
    }
   ],
   "source": [
    "# Assign True or False to the variables small and green\n",
    "small = True\n",
    "green = False\n",
    "\n",
    "# Check the choices and print the matching ones\n",
    "if small and green:\n",
    "    print('This matches: pea')\n",
    "elif small and not green:\n",
    "    print('This matches: cherry')\n",
    "elif not small and green:\n",
    "    print('This matches: watermelon')\n",
    "elif not small and not green:\n",
    "    print('This matches: pumpkin')"
   ]
  },
  {
   "cell_type": "code",
   "execution_count": 6,
   "id": "09628899",
   "metadata": {},
   "outputs": [
    {
     "name": "stdout",
     "output_type": "stream",
     "text": [
      "3\n",
      "2\n",
      "1\n",
      "0\n"
     ]
    }
   ],
   "source": [
    "# Define the list\n",
    "my_list = [3, 2, 1, 0]\n",
    "\n",
    "# Use a for loop to iterate through the list and print each value\n",
    "for value in my_list:\n",
    "    print(value)"
   ]
  },
  {
   "cell_type": "code",
   "execution_count": 7,
   "id": "b123ecd4",
   "metadata": {},
   "outputs": [
    {
     "name": "stdout",
     "output_type": "stream",
     "text": [
      "Too low\n",
      "Too low\n",
      "Too low\n",
      "Too low\n",
      "Too low\n",
      "Too low\n",
      "Found it!\n"
     ]
    }
   ],
   "source": [
    "# Assign values to variables\n",
    "guess_me = 7\n",
    "number = 1\n",
    "\n",
    "# Use a while loop to compare number with guess_me\n",
    "while number <= guess_me:\n",
    "    if number < guess_me:\n",
    "        print('Too low')\n",
    "    elif number == guess_me:\n",
    "        print('Found it!')\n",
    "        break  # Exit the loop if number equals guess_me\n",
    "    else:\n",
    "        print('Oops')\n",
    "        break  # Exit the loop if number is greater than guess_me\n",
    "\n",
    "    # Increment number at the end of the loop\n",
    "    number += 1\n"
   ]
  },
  {
   "cell_type": "code",
   "execution_count": 8,
   "id": "da9fef0a",
   "metadata": {},
   "outputs": [
    {
     "name": "stdout",
     "output_type": "stream",
     "text": [
      "Too low\n",
      "Too low\n",
      "Too low\n",
      "Too low\n",
      "Too low\n",
      "Found it!\n"
     ]
    }
   ],
   "source": [
    "# Assign a value to the variable guess_me\n",
    "guess_me = 5\n",
    "\n",
    "# Use a for loop to iterate over range(10)\n",
    "for number in range(10):\n",
    "    if number < guess_me:\n",
    "        print('Too low')\n",
    "    elif number == guess_me:\n",
    "        print('Found it!')\n",
    "        break  # Exit the loop if number equals guess_me\n",
    "    else:\n",
    "        print('Oops')\n",
    "        break  # Exit the loop if number is greater than guess_me"
   ]
  },
  {
   "cell_type": "code",
   "execution_count": null,
   "id": "861aa952",
   "metadata": {},
   "outputs": [],
   "source": []
  }
 ],
 "metadata": {
  "kernelspec": {
   "display_name": "Python 3 (ipykernel)",
   "language": "python",
   "name": "python3"
  },
  "language_info": {
   "codemirror_mode": {
    "name": "ipython",
    "version": 3
   },
   "file_extension": ".py",
   "mimetype": "text/x-python",
   "name": "python",
   "nbconvert_exporter": "python",
   "pygments_lexer": "ipython3",
   "version": "3.11.5"
  }
 },
 "nbformat": 4,
 "nbformat_minor": 5
}
